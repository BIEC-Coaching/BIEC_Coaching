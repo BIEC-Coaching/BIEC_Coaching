{
 "cells": [
  {
   "cell_type": "markdown",
   "metadata": {},
   "source": [
    "# Laden von böntigeten Softwarebibliotheken und Festlegung von Grundeinstellungen"
   ]
  },
  {
   "cell_type": "code",
   "execution_count": 4,
   "metadata": {},
   "outputs": [],
   "source": [
    "# Importieren von Bibliotheken die benötigt werden\n",
    "import warnings\n",
    "warnings.simplefilter(action='ignore', category=FutureWarning)\n",
    "%matplotlib inline\n",
    "import numpy as np\n",
    "import pandas as pd\n",
    "import pandas_profiling\n",
    "from matplotlib import pyplot as plt\n",
    "import matplotlib as mpl\n",
    "import seaborn as sns\n",
    "import time\n",
    "\n",
    "# Definiere Farben für Schaubilder\n",
    "fh_teal = '#179c7d'\n",
    "fh_orange = '#f29400'\n",
    "fh_blue = '#1f82c0'\n",
    "fh_red = '#e2001a'\n",
    "fh_lightgreen = '#b1c800'\n",
    "fh_beige = '#feefd6'\n",
    "fh_grey = '#e1e3e3'\n",
    "\n",
    "# Globale Einstellung für Schriftgröße, Farben usw. in Schaubildern\n",
    "fh_palette = [fh_teal, fh_orange, fh_blue, fh_red, fh_lightgreen, fh_beige, fh_grey]\n",
    "sns.set_style(\"darkgrid\", {\"axes.facecolor\": \".9\"})\n",
    "sns.set_palette(fh_palette)\n",
    "params = {'legend.fontsize': 22,\n",
    "          'figure.figsize': (20, 14),\n",
    "          'axes.labelsize': 22,\n",
    "          'axes.titlesize': 26,\n",
    "          'xtick.labelsize': 20,\n",
    "          'ytick.labelsize': 20}\n",
    "mpl.rcParams.update(params)"
   ]
  },
  {
   "cell_type": "markdown",
   "metadata": {
    "heading_collapsed": true
   },
   "source": [
    "# Initiale Exploration der Daten"
   ]
  },
  {
   "cell_type": "code",
   "execution_count": 5,
   "metadata": {
    "hidden": true
   },
   "outputs": [],
   "source": [
    "# Festlegung der Namen der einzenlnen Merkmale (Spalten)\n",
    "index = ['engine#','tCycles']\n",
    "settings = ['setting1','setting2','setting3']\n",
    "sensors = ['sensor' + str(i) for i in range(1,24)]\n",
    "col_names = index + settings + sensors"
   ]
  },
  {
   "cell_type": "code",
   "execution_count": 6,
   "metadata": {
    "hidden": true,
    "scrolled": false
   },
   "outputs": [],
   "source": [
    "# Laden der Trainingsdaten\n",
    "df_train = pd.read_csv('./CMAPSSData/train_FD001.txt',sep=' ', names=col_names)"
   ]
  },
  {
   "cell_type": "markdown",
   "metadata": {},
   "source": [
    "---\n",
    "---\n",
    "---\n",
    "# Aufgabe 1\n",
    "Nicht alle Sensoren liefern sinnvolle Informationen. Welche Sensoren sind das und sollten von der weiteren Analyse ausgeschlossen werden?\n",
    "Hier können die Ergebnisse von Aufgabe 1.1 genommen werden. Die Daten und Sensoren können in den nächsten beiden Zeellen noch einmal betrachtet werden."
   ]
  },
  {
   "cell_type": "code",
   "execution_count": 7,
   "metadata": {},
   "outputs": [
    {
     "data": {
      "text/html": [
       "<div>\n",
       "<style scoped>\n",
       "    .dataframe tbody tr th:only-of-type {\n",
       "        vertical-align: middle;\n",
       "    }\n",
       "\n",
       "    .dataframe tbody tr th {\n",
       "        vertical-align: top;\n",
       "    }\n",
       "\n",
       "    .dataframe thead th {\n",
       "        text-align: right;\n",
       "    }\n",
       "</style>\n",
       "<table border=\"1\" class=\"dataframe\">\n",
       "  <thead>\n",
       "    <tr style=\"text-align: right;\">\n",
       "      <th></th>\n",
       "      <th>engine#</th>\n",
       "      <th>tCycles</th>\n",
       "      <th>setting1</th>\n",
       "      <th>setting2</th>\n",
       "      <th>setting3</th>\n",
       "      <th>sensor1</th>\n",
       "      <th>sensor2</th>\n",
       "      <th>sensor3</th>\n",
       "      <th>sensor4</th>\n",
       "      <th>sensor5</th>\n",
       "      <th>...</th>\n",
       "      <th>sensor14</th>\n",
       "      <th>sensor15</th>\n",
       "      <th>sensor16</th>\n",
       "      <th>sensor17</th>\n",
       "      <th>sensor18</th>\n",
       "      <th>sensor19</th>\n",
       "      <th>sensor20</th>\n",
       "      <th>sensor21</th>\n",
       "      <th>sensor22</th>\n",
       "      <th>sensor23</th>\n",
       "    </tr>\n",
       "  </thead>\n",
       "  <tbody>\n",
       "    <tr>\n",
       "      <th>0</th>\n",
       "      <td>1</td>\n",
       "      <td>1</td>\n",
       "      <td>-0.0007</td>\n",
       "      <td>-0.0004</td>\n",
       "      <td>100.0</td>\n",
       "      <td>518.67</td>\n",
       "      <td>641.82</td>\n",
       "      <td>1589.70</td>\n",
       "      <td>1400.60</td>\n",
       "      <td>14.62</td>\n",
       "      <td>...</td>\n",
       "      <td>8138.62</td>\n",
       "      <td>8.4195</td>\n",
       "      <td>0.03</td>\n",
       "      <td>392</td>\n",
       "      <td>2388</td>\n",
       "      <td>100.0</td>\n",
       "      <td>39.06</td>\n",
       "      <td>23.4190</td>\n",
       "      <td>NaN</td>\n",
       "      <td>NaN</td>\n",
       "    </tr>\n",
       "    <tr>\n",
       "      <th>1</th>\n",
       "      <td>1</td>\n",
       "      <td>2</td>\n",
       "      <td>0.0019</td>\n",
       "      <td>-0.0003</td>\n",
       "      <td>100.0</td>\n",
       "      <td>518.67</td>\n",
       "      <td>642.15</td>\n",
       "      <td>1591.82</td>\n",
       "      <td>1403.14</td>\n",
       "      <td>14.62</td>\n",
       "      <td>...</td>\n",
       "      <td>8131.49</td>\n",
       "      <td>8.4318</td>\n",
       "      <td>0.03</td>\n",
       "      <td>392</td>\n",
       "      <td>2388</td>\n",
       "      <td>100.0</td>\n",
       "      <td>39.00</td>\n",
       "      <td>23.4236</td>\n",
       "      <td>NaN</td>\n",
       "      <td>NaN</td>\n",
       "    </tr>\n",
       "    <tr>\n",
       "      <th>2</th>\n",
       "      <td>1</td>\n",
       "      <td>3</td>\n",
       "      <td>-0.0043</td>\n",
       "      <td>0.0003</td>\n",
       "      <td>100.0</td>\n",
       "      <td>518.67</td>\n",
       "      <td>642.35</td>\n",
       "      <td>1587.99</td>\n",
       "      <td>1404.20</td>\n",
       "      <td>14.62</td>\n",
       "      <td>...</td>\n",
       "      <td>8133.23</td>\n",
       "      <td>8.4178</td>\n",
       "      <td>0.03</td>\n",
       "      <td>390</td>\n",
       "      <td>2388</td>\n",
       "      <td>100.0</td>\n",
       "      <td>38.95</td>\n",
       "      <td>23.3442</td>\n",
       "      <td>NaN</td>\n",
       "      <td>NaN</td>\n",
       "    </tr>\n",
       "    <tr>\n",
       "      <th>3</th>\n",
       "      <td>1</td>\n",
       "      <td>4</td>\n",
       "      <td>0.0007</td>\n",
       "      <td>0.0000</td>\n",
       "      <td>100.0</td>\n",
       "      <td>518.67</td>\n",
       "      <td>642.35</td>\n",
       "      <td>1582.79</td>\n",
       "      <td>1401.87</td>\n",
       "      <td>14.62</td>\n",
       "      <td>...</td>\n",
       "      <td>8133.83</td>\n",
       "      <td>8.3682</td>\n",
       "      <td>0.03</td>\n",
       "      <td>392</td>\n",
       "      <td>2388</td>\n",
       "      <td>100.0</td>\n",
       "      <td>38.88</td>\n",
       "      <td>23.3739</td>\n",
       "      <td>NaN</td>\n",
       "      <td>NaN</td>\n",
       "    </tr>\n",
       "    <tr>\n",
       "      <th>4</th>\n",
       "      <td>1</td>\n",
       "      <td>5</td>\n",
       "      <td>-0.0019</td>\n",
       "      <td>-0.0002</td>\n",
       "      <td>100.0</td>\n",
       "      <td>518.67</td>\n",
       "      <td>642.37</td>\n",
       "      <td>1582.85</td>\n",
       "      <td>1406.22</td>\n",
       "      <td>14.62</td>\n",
       "      <td>...</td>\n",
       "      <td>8133.80</td>\n",
       "      <td>8.4294</td>\n",
       "      <td>0.03</td>\n",
       "      <td>393</td>\n",
       "      <td>2388</td>\n",
       "      <td>100.0</td>\n",
       "      <td>38.90</td>\n",
       "      <td>23.4044</td>\n",
       "      <td>NaN</td>\n",
       "      <td>NaN</td>\n",
       "    </tr>\n",
       "    <tr>\n",
       "      <th>...</th>\n",
       "      <td>...</td>\n",
       "      <td>...</td>\n",
       "      <td>...</td>\n",
       "      <td>...</td>\n",
       "      <td>...</td>\n",
       "      <td>...</td>\n",
       "      <td>...</td>\n",
       "      <td>...</td>\n",
       "      <td>...</td>\n",
       "      <td>...</td>\n",
       "      <td>...</td>\n",
       "      <td>...</td>\n",
       "      <td>...</td>\n",
       "      <td>...</td>\n",
       "      <td>...</td>\n",
       "      <td>...</td>\n",
       "      <td>...</td>\n",
       "      <td>...</td>\n",
       "      <td>...</td>\n",
       "      <td>...</td>\n",
       "      <td>...</td>\n",
       "    </tr>\n",
       "    <tr>\n",
       "      <th>20626</th>\n",
       "      <td>100</td>\n",
       "      <td>196</td>\n",
       "      <td>-0.0004</td>\n",
       "      <td>-0.0003</td>\n",
       "      <td>100.0</td>\n",
       "      <td>518.67</td>\n",
       "      <td>643.49</td>\n",
       "      <td>1597.98</td>\n",
       "      <td>1428.63</td>\n",
       "      <td>14.62</td>\n",
       "      <td>...</td>\n",
       "      <td>8137.60</td>\n",
       "      <td>8.4956</td>\n",
       "      <td>0.03</td>\n",
       "      <td>397</td>\n",
       "      <td>2388</td>\n",
       "      <td>100.0</td>\n",
       "      <td>38.49</td>\n",
       "      <td>22.9735</td>\n",
       "      <td>NaN</td>\n",
       "      <td>NaN</td>\n",
       "    </tr>\n",
       "    <tr>\n",
       "      <th>20627</th>\n",
       "      <td>100</td>\n",
       "      <td>197</td>\n",
       "      <td>-0.0016</td>\n",
       "      <td>-0.0005</td>\n",
       "      <td>100.0</td>\n",
       "      <td>518.67</td>\n",
       "      <td>643.54</td>\n",
       "      <td>1604.50</td>\n",
       "      <td>1433.58</td>\n",
       "      <td>14.62</td>\n",
       "      <td>...</td>\n",
       "      <td>8136.50</td>\n",
       "      <td>8.5139</td>\n",
       "      <td>0.03</td>\n",
       "      <td>395</td>\n",
       "      <td>2388</td>\n",
       "      <td>100.0</td>\n",
       "      <td>38.30</td>\n",
       "      <td>23.1594</td>\n",
       "      <td>NaN</td>\n",
       "      <td>NaN</td>\n",
       "    </tr>\n",
       "    <tr>\n",
       "      <th>20628</th>\n",
       "      <td>100</td>\n",
       "      <td>198</td>\n",
       "      <td>0.0004</td>\n",
       "      <td>0.0000</td>\n",
       "      <td>100.0</td>\n",
       "      <td>518.67</td>\n",
       "      <td>643.42</td>\n",
       "      <td>1602.46</td>\n",
       "      <td>1428.18</td>\n",
       "      <td>14.62</td>\n",
       "      <td>...</td>\n",
       "      <td>8141.05</td>\n",
       "      <td>8.5646</td>\n",
       "      <td>0.03</td>\n",
       "      <td>398</td>\n",
       "      <td>2388</td>\n",
       "      <td>100.0</td>\n",
       "      <td>38.44</td>\n",
       "      <td>22.9333</td>\n",
       "      <td>NaN</td>\n",
       "      <td>NaN</td>\n",
       "    </tr>\n",
       "    <tr>\n",
       "      <th>20629</th>\n",
       "      <td>100</td>\n",
       "      <td>199</td>\n",
       "      <td>-0.0011</td>\n",
       "      <td>0.0003</td>\n",
       "      <td>100.0</td>\n",
       "      <td>518.67</td>\n",
       "      <td>643.23</td>\n",
       "      <td>1605.26</td>\n",
       "      <td>1426.53</td>\n",
       "      <td>14.62</td>\n",
       "      <td>...</td>\n",
       "      <td>8139.29</td>\n",
       "      <td>8.5389</td>\n",
       "      <td>0.03</td>\n",
       "      <td>395</td>\n",
       "      <td>2388</td>\n",
       "      <td>100.0</td>\n",
       "      <td>38.29</td>\n",
       "      <td>23.0640</td>\n",
       "      <td>NaN</td>\n",
       "      <td>NaN</td>\n",
       "    </tr>\n",
       "    <tr>\n",
       "      <th>20630</th>\n",
       "      <td>100</td>\n",
       "      <td>200</td>\n",
       "      <td>-0.0032</td>\n",
       "      <td>-0.0005</td>\n",
       "      <td>100.0</td>\n",
       "      <td>518.67</td>\n",
       "      <td>643.85</td>\n",
       "      <td>1600.38</td>\n",
       "      <td>1432.14</td>\n",
       "      <td>14.62</td>\n",
       "      <td>...</td>\n",
       "      <td>8137.33</td>\n",
       "      <td>8.5036</td>\n",
       "      <td>0.03</td>\n",
       "      <td>396</td>\n",
       "      <td>2388</td>\n",
       "      <td>100.0</td>\n",
       "      <td>38.37</td>\n",
       "      <td>23.0522</td>\n",
       "      <td>NaN</td>\n",
       "      <td>NaN</td>\n",
       "    </tr>\n",
       "  </tbody>\n",
       "</table>\n",
       "<p>20631 rows × 28 columns</p>\n",
       "</div>"
      ],
      "text/plain": [
       "       engine#  tCycles  setting1  setting2  setting3  sensor1  sensor2  \\\n",
       "0            1        1   -0.0007   -0.0004     100.0   518.67   641.82   \n",
       "1            1        2    0.0019   -0.0003     100.0   518.67   642.15   \n",
       "2            1        3   -0.0043    0.0003     100.0   518.67   642.35   \n",
       "3            1        4    0.0007    0.0000     100.0   518.67   642.35   \n",
       "4            1        5   -0.0019   -0.0002     100.0   518.67   642.37   \n",
       "...        ...      ...       ...       ...       ...      ...      ...   \n",
       "20626      100      196   -0.0004   -0.0003     100.0   518.67   643.49   \n",
       "20627      100      197   -0.0016   -0.0005     100.0   518.67   643.54   \n",
       "20628      100      198    0.0004    0.0000     100.0   518.67   643.42   \n",
       "20629      100      199   -0.0011    0.0003     100.0   518.67   643.23   \n",
       "20630      100      200   -0.0032   -0.0005     100.0   518.67   643.85   \n",
       "\n",
       "       sensor3  sensor4  sensor5  ...  sensor14  sensor15  sensor16  sensor17  \\\n",
       "0      1589.70  1400.60    14.62  ...   8138.62    8.4195      0.03       392   \n",
       "1      1591.82  1403.14    14.62  ...   8131.49    8.4318      0.03       392   \n",
       "2      1587.99  1404.20    14.62  ...   8133.23    8.4178      0.03       390   \n",
       "3      1582.79  1401.87    14.62  ...   8133.83    8.3682      0.03       392   \n",
       "4      1582.85  1406.22    14.62  ...   8133.80    8.4294      0.03       393   \n",
       "...        ...      ...      ...  ...       ...       ...       ...       ...   \n",
       "20626  1597.98  1428.63    14.62  ...   8137.60    8.4956      0.03       397   \n",
       "20627  1604.50  1433.58    14.62  ...   8136.50    8.5139      0.03       395   \n",
       "20628  1602.46  1428.18    14.62  ...   8141.05    8.5646      0.03       398   \n",
       "20629  1605.26  1426.53    14.62  ...   8139.29    8.5389      0.03       395   \n",
       "20630  1600.38  1432.14    14.62  ...   8137.33    8.5036      0.03       396   \n",
       "\n",
       "       sensor18  sensor19  sensor20  sensor21  sensor22  sensor23  \n",
       "0          2388     100.0     39.06   23.4190       NaN       NaN  \n",
       "1          2388     100.0     39.00   23.4236       NaN       NaN  \n",
       "2          2388     100.0     38.95   23.3442       NaN       NaN  \n",
       "3          2388     100.0     38.88   23.3739       NaN       NaN  \n",
       "4          2388     100.0     38.90   23.4044       NaN       NaN  \n",
       "...         ...       ...       ...       ...       ...       ...  \n",
       "20626      2388     100.0     38.49   22.9735       NaN       NaN  \n",
       "20627      2388     100.0     38.30   23.1594       NaN       NaN  \n",
       "20628      2388     100.0     38.44   22.9333       NaN       NaN  \n",
       "20629      2388     100.0     38.29   23.0640       NaN       NaN  \n",
       "20630      2388     100.0     38.37   23.0522       NaN       NaN  \n",
       "\n",
       "[20631 rows x 28 columns]"
      ]
     },
     "execution_count": 7,
     "metadata": {},
     "output_type": "execute_result"
    }
   ],
   "source": [
    "# Ein Blick auf die Trainingsdaten. Jede Zeile ist eine Beobachtung, jede Spalte ein Merkmal.\n",
    "# Der Wert NaN (Abkürzung für: not a number) bedeutet, dass an dieser Stelle der Wert fehlt. \n",
    "df_train"
   ]
  },
  {
   "cell_type": "code",
   "execution_count": 8,
   "metadata": {},
   "outputs": [],
   "source": [
    "# Funktion, mit der in einem Schaubild der Sensorverlauf von mehreren Engines\n",
    "# dargestellt werden kann\n",
    "def plot_sensor(sensor_name):\n",
    "    plt.figure(figsize=(13,5))\n",
    "    for i in df_train['engine#'].unique():\n",
    "        if (i % 20 == 0):\n",
    "            plt.plot(np.arange(0, df_train[df_train['engine#']==i].shape[0]),\n",
    "                     sensor_name,\n",
    "                     data=df_train[df_train['engine#']==i])\n",
    "    plt.xlim(250, 0)\n",
    "    plt.xticks(np.arange(0, 275, 25))\n",
    "    plt.ylabel(sensor_name)\n",
    "    plt.xlabel('Remaining Useful Life')\n",
    "    plt.show()"
   ]
  },
  {
   "cell_type": "markdown",
   "metadata": {},
   "source": [
    "In der nächsten Zelle kann noch einmal der Verlauf von Sensoren dargestellt werden. Hierfür für <font color='darkred'>engine#</font> durch den Namen eines anderen Merkmals ersetzen (Spalten in der Tabelle oberhalb). Die <font color='darkred'>' '</font> müssen stehen bleiben.\n"
   ]
  },
  {
   "cell_type": "code",
   "execution_count": 9,
   "metadata": {},
   "outputs": [
    {
     "data": {
      "image/png": "[encoded data removed]",
      "text/plain": [
       "<Figure size 936x360 with 1 Axes>"
      ]
     },
     "metadata": {},
     "output_type": "display_data"
    }
   ],
   "source": [
    "# Erstellen eines Schaubilds\n",
    "plot_sensor('engine#')"
   ]
  },
  {
   "cell_type": "markdown",
   "metadata": {},
   "source": [
    "# Ende Aufgabe 1\n",
    "---\n",
    "---\n",
    "---"
   ]
  },
  {
   "cell_type": "markdown",
   "metadata": {},
   "source": [
    "In der nächsten Zelle werden alle Merkmale, die keine Informationen oder Mehrwert liefern gelöscht. Dabei werden alle Merkmale (Spalten) gelöscht, die in der zweiten und dritten Zeile in der Zelle unterhalb stehen."
   ]
  },
  {
   "cell_type": "code",
   "execution_count": 10,
   "metadata": {},
   "outputs": [],
   "source": [
    "# Löschen von Merkmalen (Spalten), die keine Information beinhalten\n",
    "drop_cols = ['setting3', 'sensor1', 'sensor5', 'sensor6', 'sensor10',\n",
    "             'sensor16', 'sensor18', 'sensor19', 'sensor22', 'sensor23']\n",
    "df_train.drop(drop_cols,axis=1, inplace=True)"
   ]
  },
  {
   "cell_type": "markdown",
   "metadata": {},
   "source": [
    "# Feature engineering / Merkmale konstruieren"
   ]
  },
  {
   "cell_type": "markdown",
   "metadata": {},
   "source": [
    "### Erstellung der Restlaufdauer (Remaining Useful Lifetime, RUL)"
   ]
  },
  {
   "cell_type": "code",
   "execution_count": 11,
   "metadata": {},
   "outputs": [],
   "source": [
    "# Definition der remaining useful lifetime (RUL)\n",
    "def add_remaining_useful_life(df):\n",
    "    # Erhalte die maximale Anzahl von Durchläufen pro Triebwerk (engine)\n",
    "    grouped_by_unit = df_train.groupby(by=\"engine#\")\n",
    "    max_cycle = grouped_by_unit[\"tCycles\"].max()\n",
    "    \n",
    "    # Erstelle eine neue Spalte \"max_cycle\", die die maximale Anzahl an Zyklus für jedes Triebwerk beinmhaltet\n",
    "    result_frame = df_train.merge(max_cycle.to_frame(name='max_cycle'), left_on='engine#', right_index=True)\n",
    "    \n",
    "    # Berechne die RUL für jede Beobachtung (Zeile)\n",
    "    remaining_useful_life = result_frame[\"max_cycle\"] - result_frame[\"tCycles\"]\n",
    "    result_frame[\"RUL\"] = remaining_useful_life\n",
    "    \n",
    "    # Lösche die Spalte \"max_cycle\", da sie nicht Länger benötigt wird\n",
    "    result_frame = result_frame.drop(\"max_cycle\", axis=1)\n",
    "    return result_frame\n",
    "  \n",
    "df_train = add_remaining_useful_life(df_train)"
   ]
  },
  {
   "cell_type": "code",
   "execution_count": 12,
   "metadata": {},
   "outputs": [
    {
     "data": {
      "text/html": [
       "<div>\n",
       "<style scoped>\n",
       "    .dataframe tbody tr th:only-of-type {\n",
       "        vertical-align: middle;\n",
       "    }\n",
       "\n",
       "    .dataframe tbody tr th {\n",
       "        vertical-align: top;\n",
       "    }\n",
       "\n",
       "    .dataframe thead th {\n",
       "        text-align: right;\n",
       "    }\n",
       "</style>\n",
       "<table border=\"1\" class=\"dataframe\">\n",
       "  <thead>\n",
       "    <tr style=\"text-align: right;\">\n",
       "      <th></th>\n",
       "      <th>engine#</th>\n",
       "      <th>tCycles</th>\n",
       "      <th>setting1</th>\n",
       "      <th>setting2</th>\n",
       "      <th>sensor2</th>\n",
       "      <th>sensor3</th>\n",
       "      <th>sensor4</th>\n",
       "      <th>sensor7</th>\n",
       "      <th>sensor8</th>\n",
       "      <th>sensor9</th>\n",
       "      <th>sensor11</th>\n",
       "      <th>sensor12</th>\n",
       "      <th>sensor13</th>\n",
       "      <th>sensor14</th>\n",
       "      <th>sensor15</th>\n",
       "      <th>sensor17</th>\n",
       "      <th>sensor20</th>\n",
       "      <th>sensor21</th>\n",
       "      <th>RUL</th>\n",
       "    </tr>\n",
       "  </thead>\n",
       "  <tbody>\n",
       "    <tr>\n",
       "      <th>0</th>\n",
       "      <td>1</td>\n",
       "      <td>1</td>\n",
       "      <td>-0.0007</td>\n",
       "      <td>-0.0004</td>\n",
       "      <td>641.82</td>\n",
       "      <td>1589.70</td>\n",
       "      <td>1400.60</td>\n",
       "      <td>554.36</td>\n",
       "      <td>2388.06</td>\n",
       "      <td>9046.19</td>\n",
       "      <td>47.47</td>\n",
       "      <td>521.66</td>\n",
       "      <td>2388.02</td>\n",
       "      <td>8138.62</td>\n",
       "      <td>8.4195</td>\n",
       "      <td>392</td>\n",
       "      <td>39.06</td>\n",
       "      <td>23.4190</td>\n",
       "      <td>191</td>\n",
       "    </tr>\n",
       "    <tr>\n",
       "      <th>1</th>\n",
       "      <td>1</td>\n",
       "      <td>2</td>\n",
       "      <td>0.0019</td>\n",
       "      <td>-0.0003</td>\n",
       "      <td>642.15</td>\n",
       "      <td>1591.82</td>\n",
       "      <td>1403.14</td>\n",
       "      <td>553.75</td>\n",
       "      <td>2388.04</td>\n",
       "      <td>9044.07</td>\n",
       "      <td>47.49</td>\n",
       "      <td>522.28</td>\n",
       "      <td>2388.07</td>\n",
       "      <td>8131.49</td>\n",
       "      <td>8.4318</td>\n",
       "      <td>392</td>\n",
       "      <td>39.00</td>\n",
       "      <td>23.4236</td>\n",
       "      <td>190</td>\n",
       "    </tr>\n",
       "    <tr>\n",
       "      <th>2</th>\n",
       "      <td>1</td>\n",
       "      <td>3</td>\n",
       "      <td>-0.0043</td>\n",
       "      <td>0.0003</td>\n",
       "      <td>642.35</td>\n",
       "      <td>1587.99</td>\n",
       "      <td>1404.20</td>\n",
       "      <td>554.26</td>\n",
       "      <td>2388.08</td>\n",
       "      <td>9052.94</td>\n",
       "      <td>47.27</td>\n",
       "      <td>522.42</td>\n",
       "      <td>2388.03</td>\n",
       "      <td>8133.23</td>\n",
       "      <td>8.4178</td>\n",
       "      <td>390</td>\n",
       "      <td>38.95</td>\n",
       "      <td>23.3442</td>\n",
       "      <td>189</td>\n",
       "    </tr>\n",
       "    <tr>\n",
       "      <th>3</th>\n",
       "      <td>1</td>\n",
       "      <td>4</td>\n",
       "      <td>0.0007</td>\n",
       "      <td>0.0000</td>\n",
       "      <td>642.35</td>\n",
       "      <td>1582.79</td>\n",
       "      <td>1401.87</td>\n",
       "      <td>554.45</td>\n",
       "      <td>2388.11</td>\n",
       "      <td>9049.48</td>\n",
       "      <td>47.13</td>\n",
       "      <td>522.86</td>\n",
       "      <td>2388.08</td>\n",
       "      <td>8133.83</td>\n",
       "      <td>8.3682</td>\n",
       "      <td>392</td>\n",
       "      <td>38.88</td>\n",
       "      <td>23.3739</td>\n",
       "      <td>188</td>\n",
       "    </tr>\n",
       "    <tr>\n",
       "      <th>4</th>\n",
       "      <td>1</td>\n",
       "      <td>5</td>\n",
       "      <td>-0.0019</td>\n",
       "      <td>-0.0002</td>\n",
       "      <td>642.37</td>\n",
       "      <td>1582.85</td>\n",
       "      <td>1406.22</td>\n",
       "      <td>554.00</td>\n",
       "      <td>2388.06</td>\n",
       "      <td>9055.15</td>\n",
       "      <td>47.28</td>\n",
       "      <td>522.19</td>\n",
       "      <td>2388.04</td>\n",
       "      <td>8133.80</td>\n",
       "      <td>8.4294</td>\n",
       "      <td>393</td>\n",
       "      <td>38.90</td>\n",
       "      <td>23.4044</td>\n",
       "      <td>187</td>\n",
       "    </tr>\n",
       "    <tr>\n",
       "      <th>...</th>\n",
       "      <td>...</td>\n",
       "      <td>...</td>\n",
       "      <td>...</td>\n",
       "      <td>...</td>\n",
       "      <td>...</td>\n",
       "      <td>...</td>\n",
       "      <td>...</td>\n",
       "      <td>...</td>\n",
       "      <td>...</td>\n",
       "      <td>...</td>\n",
       "      <td>...</td>\n",
       "      <td>...</td>\n",
       "      <td>...</td>\n",
       "      <td>...</td>\n",
       "      <td>...</td>\n",
       "      <td>...</td>\n",
       "      <td>...</td>\n",
       "      <td>...</td>\n",
       "      <td>...</td>\n",
       "    </tr>\n",
       "    <tr>\n",
       "      <th>20626</th>\n",
       "      <td>100</td>\n",
       "      <td>196</td>\n",
       "      <td>-0.0004</td>\n",
       "      <td>-0.0003</td>\n",
       "      <td>643.49</td>\n",
       "      <td>1597.98</td>\n",
       "      <td>1428.63</td>\n",
       "      <td>551.43</td>\n",
       "      <td>2388.19</td>\n",
       "      <td>9065.52</td>\n",
       "      <td>48.07</td>\n",
       "      <td>519.49</td>\n",
       "      <td>2388.26</td>\n",
       "      <td>8137.60</td>\n",
       "      <td>8.4956</td>\n",
       "      <td>397</td>\n",
       "      <td>38.49</td>\n",
       "      <td>22.9735</td>\n",
       "      <td>4</td>\n",
       "    </tr>\n",
       "    <tr>\n",
       "      <th>20627</th>\n",
       "      <td>100</td>\n",
       "      <td>197</td>\n",
       "      <td>-0.0016</td>\n",
       "      <td>-0.0005</td>\n",
       "      <td>643.54</td>\n",
       "      <td>1604.50</td>\n",
       "      <td>1433.58</td>\n",
       "      <td>550.86</td>\n",
       "      <td>2388.23</td>\n",
       "      <td>9065.11</td>\n",
       "      <td>48.04</td>\n",
       "      <td>519.68</td>\n",
       "      <td>2388.22</td>\n",
       "      <td>8136.50</td>\n",
       "      <td>8.5139</td>\n",
       "      <td>395</td>\n",
       "      <td>38.30</td>\n",
       "      <td>23.1594</td>\n",
       "      <td>3</td>\n",
       "    </tr>\n",
       "    <tr>\n",
       "      <th>20628</th>\n",
       "      <td>100</td>\n",
       "      <td>198</td>\n",
       "      <td>0.0004</td>\n",
       "      <td>0.0000</td>\n",
       "      <td>643.42</td>\n",
       "      <td>1602.46</td>\n",
       "      <td>1428.18</td>\n",
       "      <td>550.94</td>\n",
       "      <td>2388.24</td>\n",
       "      <td>9065.90</td>\n",
       "      <td>48.09</td>\n",
       "      <td>520.01</td>\n",
       "      <td>2388.24</td>\n",
       "      <td>8141.05</td>\n",
       "      <td>8.5646</td>\n",
       "      <td>398</td>\n",
       "      <td>38.44</td>\n",
       "      <td>22.9333</td>\n",
       "      <td>2</td>\n",
       "    </tr>\n",
       "    <tr>\n",
       "      <th>20629</th>\n",
       "      <td>100</td>\n",
       "      <td>199</td>\n",
       "      <td>-0.0011</td>\n",
       "      <td>0.0003</td>\n",
       "      <td>643.23</td>\n",
       "      <td>1605.26</td>\n",
       "      <td>1426.53</td>\n",
       "      <td>550.68</td>\n",
       "      <td>2388.25</td>\n",
       "      <td>9073.72</td>\n",
       "      <td>48.39</td>\n",
       "      <td>519.67</td>\n",
       "      <td>2388.23</td>\n",
       "      <td>8139.29</td>\n",
       "      <td>8.5389</td>\n",
       "      <td>395</td>\n",
       "      <td>38.29</td>\n",
       "      <td>23.0640</td>\n",
       "      <td>1</td>\n",
       "    </tr>\n",
       "    <tr>\n",
       "      <th>20630</th>\n",
       "      <td>100</td>\n",
       "      <td>200</td>\n",
       "      <td>-0.0032</td>\n",
       "      <td>-0.0005</td>\n",
       "      <td>643.85</td>\n",
       "      <td>1600.38</td>\n",
       "      <td>1432.14</td>\n",
       "      <td>550.79</td>\n",
       "      <td>2388.26</td>\n",
       "      <td>9061.48</td>\n",
       "      <td>48.20</td>\n",
       "      <td>519.30</td>\n",
       "      <td>2388.26</td>\n",
       "      <td>8137.33</td>\n",
       "      <td>8.5036</td>\n",
       "      <td>396</td>\n",
       "      <td>38.37</td>\n",
       "      <td>23.0522</td>\n",
       "      <td>0</td>\n",
       "    </tr>\n",
       "  </tbody>\n",
       "</table>\n",
       "<p>20631 rows × 19 columns</p>\n",
       "</div>"
      ],
      "text/plain": [
       "       engine#  tCycles  setting1  setting2  sensor2  sensor3  sensor4  \\\n",
       "0            1        1   -0.0007   -0.0004   641.82  1589.70  1400.60   \n",
       "1            1        2    0.0019   -0.0003   642.15  1591.82  1403.14   \n",
       "2            1        3   -0.0043    0.0003   642.35  1587.99  1404.20   \n",
       "3            1        4    0.0007    0.0000   642.35  1582.79  1401.87   \n",
       "4            1        5   -0.0019   -0.0002   642.37  1582.85  1406.22   \n",
       "...        ...      ...       ...       ...      ...      ...      ...   \n",
       "20626      100      196   -0.0004   -0.0003   643.49  1597.98  1428.63   \n",
       "20627      100      197   -0.0016   -0.0005   643.54  1604.50  1433.58   \n",
       "20628      100      198    0.0004    0.0000   643.42  1602.46  1428.18   \n",
       "20629      100      199   -0.0011    0.0003   643.23  1605.26  1426.53   \n",
       "20630      100      200   -0.0032   -0.0005   643.85  1600.38  1432.14   \n",
       "\n",
       "       sensor7  sensor8  sensor9  sensor11  sensor12  sensor13  sensor14  \\\n",
       "0       554.36  2388.06  9046.19     47.47    521.66   2388.02   8138.62   \n",
       "1       553.75  2388.04  9044.07     47.49    522.28   2388.07   8131.49   \n",
       "2       554.26  2388.08  9052.94     47.27    522.42   2388.03   8133.23   \n",
       "3       554.45  2388.11  9049.48     47.13    522.86   2388.08   8133.83   \n",
       "4       554.00  2388.06  9055.15     47.28    522.19   2388.04   8133.80   \n",
       "...        ...      ...      ...       ...       ...       ...       ...   \n",
       "20626   551.43  2388.19  9065.52     48.07    519.49   2388.26   8137.60   \n",
       "20627   550.86  2388.23  9065.11     48.04    519.68   2388.22   8136.50   \n",
       "20628   550.94  2388.24  9065.90     48.09    520.01   2388.24   8141.05   \n",
       "20629   550.68  2388.25  9073.72     48.39    519.67   2388.23   8139.29   \n",
       "20630   550.79  2388.26  9061.48     48.20    519.30   2388.26   8137.33   \n",
       "\n",
       "       sensor15  sensor17  sensor20  sensor21  RUL  \n",
       "0        8.4195       392     39.06   23.4190  191  \n",
       "1        8.4318       392     39.00   23.4236  190  \n",
       "2        8.4178       390     38.95   23.3442  189  \n",
       "3        8.3682       392     38.88   23.3739  188  \n",
       "4        8.4294       393     38.90   23.4044  187  \n",
       "...         ...       ...       ...       ...  ...  \n",
       "20626    8.4956       397     38.49   22.9735    4  \n",
       "20627    8.5139       395     38.30   23.1594    3  \n",
       "20628    8.5646       398     38.44   22.9333    2  \n",
       "20629    8.5389       395     38.29   23.0640    1  \n",
       "20630    8.5036       396     38.37   23.0522    0  \n",
       "\n",
       "[20631 rows x 19 columns]"
      ]
     },
     "execution_count": 12,
     "metadata": {},
     "output_type": "execute_result"
    }
   ],
   "source": [
    "# Zeige die Testdatenmatrix mit dem neuen Merkmal \"RUL\"\n",
    "df_train"
   ]
  },
  {
   "cell_type": "code",
   "execution_count": 13,
   "metadata": {
    "hidden": true
   },
   "outputs": [
    {
     "data": {
      "text/html": [
       "<div>\n",
       "<style scoped>\n",
       "    .dataframe tbody tr th:only-of-type {\n",
       "        vertical-align: middle;\n",
       "    }\n",
       "\n",
       "    .dataframe tbody tr th {\n",
       "        vertical-align: top;\n",
       "    }\n",
       "\n",
       "    .dataframe thead th {\n",
       "        text-align: right;\n",
       "    }\n",
       "</style>\n",
       "<table border=\"1\" class=\"dataframe\">\n",
       "  <thead>\n",
       "    <tr style=\"text-align: right;\">\n",
       "      <th></th>\n",
       "      <th>engine#</th>\n",
       "      <th>tCycles</th>\n",
       "      <th>setting1</th>\n",
       "      <th>setting2</th>\n",
       "      <th>sensor2</th>\n",
       "      <th>sensor3</th>\n",
       "      <th>sensor4</th>\n",
       "      <th>sensor7</th>\n",
       "      <th>sensor8</th>\n",
       "      <th>sensor9</th>\n",
       "      <th>sensor11</th>\n",
       "      <th>sensor12</th>\n",
       "      <th>sensor13</th>\n",
       "      <th>sensor14</th>\n",
       "      <th>sensor15</th>\n",
       "      <th>sensor17</th>\n",
       "      <th>sensor20</th>\n",
       "      <th>sensor21</th>\n",
       "    </tr>\n",
       "  </thead>\n",
       "  <tbody>\n",
       "    <tr>\n",
       "      <th>0</th>\n",
       "      <td>1</td>\n",
       "      <td>1</td>\n",
       "      <td>0.0023</td>\n",
       "      <td>0.0003</td>\n",
       "      <td>643.02</td>\n",
       "      <td>1585.29</td>\n",
       "      <td>1398.21</td>\n",
       "      <td>553.90</td>\n",
       "      <td>2388.04</td>\n",
       "      <td>9050.17</td>\n",
       "      <td>47.20</td>\n",
       "      <td>521.72</td>\n",
       "      <td>2388.03</td>\n",
       "      <td>8125.55</td>\n",
       "      <td>8.4052</td>\n",
       "      <td>392</td>\n",
       "      <td>38.86</td>\n",
       "      <td>23.3735</td>\n",
       "    </tr>\n",
       "    <tr>\n",
       "      <th>1</th>\n",
       "      <td>1</td>\n",
       "      <td>2</td>\n",
       "      <td>-0.0027</td>\n",
       "      <td>-0.0003</td>\n",
       "      <td>641.71</td>\n",
       "      <td>1588.45</td>\n",
       "      <td>1395.42</td>\n",
       "      <td>554.85</td>\n",
       "      <td>2388.01</td>\n",
       "      <td>9054.42</td>\n",
       "      <td>47.50</td>\n",
       "      <td>522.16</td>\n",
       "      <td>2388.06</td>\n",
       "      <td>8139.62</td>\n",
       "      <td>8.3803</td>\n",
       "      <td>393</td>\n",
       "      <td>39.02</td>\n",
       "      <td>23.3916</td>\n",
       "    </tr>\n",
       "    <tr>\n",
       "      <th>2</th>\n",
       "      <td>1</td>\n",
       "      <td>3</td>\n",
       "      <td>0.0003</td>\n",
       "      <td>0.0001</td>\n",
       "      <td>642.46</td>\n",
       "      <td>1586.94</td>\n",
       "      <td>1401.34</td>\n",
       "      <td>554.11</td>\n",
       "      <td>2388.05</td>\n",
       "      <td>9056.96</td>\n",
       "      <td>47.50</td>\n",
       "      <td>521.97</td>\n",
       "      <td>2388.03</td>\n",
       "      <td>8130.10</td>\n",
       "      <td>8.4441</td>\n",
       "      <td>393</td>\n",
       "      <td>39.08</td>\n",
       "      <td>23.4166</td>\n",
       "    </tr>\n",
       "    <tr>\n",
       "      <th>3</th>\n",
       "      <td>1</td>\n",
       "      <td>4</td>\n",
       "      <td>0.0042</td>\n",
       "      <td>0.0000</td>\n",
       "      <td>642.44</td>\n",
       "      <td>1584.12</td>\n",
       "      <td>1406.42</td>\n",
       "      <td>554.07</td>\n",
       "      <td>2388.03</td>\n",
       "      <td>9045.29</td>\n",
       "      <td>47.28</td>\n",
       "      <td>521.38</td>\n",
       "      <td>2388.05</td>\n",
       "      <td>8132.90</td>\n",
       "      <td>8.3917</td>\n",
       "      <td>391</td>\n",
       "      <td>39.00</td>\n",
       "      <td>23.3737</td>\n",
       "    </tr>\n",
       "    <tr>\n",
       "      <th>4</th>\n",
       "      <td>1</td>\n",
       "      <td>5</td>\n",
       "      <td>0.0014</td>\n",
       "      <td>0.0000</td>\n",
       "      <td>642.51</td>\n",
       "      <td>1587.19</td>\n",
       "      <td>1401.92</td>\n",
       "      <td>554.16</td>\n",
       "      <td>2388.01</td>\n",
       "      <td>9044.55</td>\n",
       "      <td>47.31</td>\n",
       "      <td>522.15</td>\n",
       "      <td>2388.03</td>\n",
       "      <td>8129.54</td>\n",
       "      <td>8.4031</td>\n",
       "      <td>390</td>\n",
       "      <td>38.99</td>\n",
       "      <td>23.4130</td>\n",
       "    </tr>\n",
       "    <tr>\n",
       "      <th>...</th>\n",
       "      <td>...</td>\n",
       "      <td>...</td>\n",
       "      <td>...</td>\n",
       "      <td>...</td>\n",
       "      <td>...</td>\n",
       "      <td>...</td>\n",
       "      <td>...</td>\n",
       "      <td>...</td>\n",
       "      <td>...</td>\n",
       "      <td>...</td>\n",
       "      <td>...</td>\n",
       "      <td>...</td>\n",
       "      <td>...</td>\n",
       "      <td>...</td>\n",
       "      <td>...</td>\n",
       "      <td>...</td>\n",
       "      <td>...</td>\n",
       "      <td>...</td>\n",
       "    </tr>\n",
       "    <tr>\n",
       "      <th>13091</th>\n",
       "      <td>100</td>\n",
       "      <td>194</td>\n",
       "      <td>0.0049</td>\n",
       "      <td>0.0000</td>\n",
       "      <td>643.24</td>\n",
       "      <td>1599.45</td>\n",
       "      <td>1415.79</td>\n",
       "      <td>553.41</td>\n",
       "      <td>2388.02</td>\n",
       "      <td>9142.37</td>\n",
       "      <td>47.69</td>\n",
       "      <td>520.69</td>\n",
       "      <td>2388.00</td>\n",
       "      <td>8213.28</td>\n",
       "      <td>8.4715</td>\n",
       "      <td>394</td>\n",
       "      <td>38.65</td>\n",
       "      <td>23.1974</td>\n",
       "    </tr>\n",
       "    <tr>\n",
       "      <th>13092</th>\n",
       "      <td>100</td>\n",
       "      <td>195</td>\n",
       "      <td>-0.0011</td>\n",
       "      <td>-0.0001</td>\n",
       "      <td>643.22</td>\n",
       "      <td>1595.69</td>\n",
       "      <td>1422.05</td>\n",
       "      <td>553.22</td>\n",
       "      <td>2388.05</td>\n",
       "      <td>9140.68</td>\n",
       "      <td>47.60</td>\n",
       "      <td>521.05</td>\n",
       "      <td>2388.09</td>\n",
       "      <td>8210.85</td>\n",
       "      <td>8.4512</td>\n",
       "      <td>395</td>\n",
       "      <td>38.57</td>\n",
       "      <td>23.2771</td>\n",
       "    </tr>\n",
       "    <tr>\n",
       "      <th>13093</th>\n",
       "      <td>100</td>\n",
       "      <td>196</td>\n",
       "      <td>-0.0006</td>\n",
       "      <td>-0.0003</td>\n",
       "      <td>643.44</td>\n",
       "      <td>1593.15</td>\n",
       "      <td>1406.82</td>\n",
       "      <td>553.04</td>\n",
       "      <td>2388.11</td>\n",
       "      <td>9146.81</td>\n",
       "      <td>47.57</td>\n",
       "      <td>521.18</td>\n",
       "      <td>2388.04</td>\n",
       "      <td>8217.24</td>\n",
       "      <td>8.4569</td>\n",
       "      <td>395</td>\n",
       "      <td>38.62</td>\n",
       "      <td>23.2051</td>\n",
       "    </tr>\n",
       "    <tr>\n",
       "      <th>13094</th>\n",
       "      <td>100</td>\n",
       "      <td>197</td>\n",
       "      <td>-0.0038</td>\n",
       "      <td>0.0001</td>\n",
       "      <td>643.26</td>\n",
       "      <td>1594.99</td>\n",
       "      <td>1419.36</td>\n",
       "      <td>553.37</td>\n",
       "      <td>2388.07</td>\n",
       "      <td>9148.85</td>\n",
       "      <td>47.61</td>\n",
       "      <td>521.33</td>\n",
       "      <td>2388.08</td>\n",
       "      <td>8220.48</td>\n",
       "      <td>8.4711</td>\n",
       "      <td>395</td>\n",
       "      <td>38.66</td>\n",
       "      <td>23.2699</td>\n",
       "    </tr>\n",
       "    <tr>\n",
       "      <th>13095</th>\n",
       "      <td>100</td>\n",
       "      <td>198</td>\n",
       "      <td>0.0013</td>\n",
       "      <td>0.0003</td>\n",
       "      <td>642.95</td>\n",
       "      <td>1601.62</td>\n",
       "      <td>1424.99</td>\n",
       "      <td>552.48</td>\n",
       "      <td>2388.06</td>\n",
       "      <td>9155.03</td>\n",
       "      <td>47.80</td>\n",
       "      <td>521.07</td>\n",
       "      <td>2388.05</td>\n",
       "      <td>8214.64</td>\n",
       "      <td>8.4903</td>\n",
       "      <td>396</td>\n",
       "      <td>38.70</td>\n",
       "      <td>23.1855</td>\n",
       "    </tr>\n",
       "  </tbody>\n",
       "</table>\n",
       "<p>13096 rows × 18 columns</p>\n",
       "</div>"
      ],
      "text/plain": [
       "       engine#  tCycles  setting1  setting2  sensor2  sensor3  sensor4  \\\n",
       "0            1        1    0.0023    0.0003   643.02  1585.29  1398.21   \n",
       "1            1        2   -0.0027   -0.0003   641.71  1588.45  1395.42   \n",
       "2            1        3    0.0003    0.0001   642.46  1586.94  1401.34   \n",
       "3            1        4    0.0042    0.0000   642.44  1584.12  1406.42   \n",
       "4            1        5    0.0014    0.0000   642.51  1587.19  1401.92   \n",
       "...        ...      ...       ...       ...      ...      ...      ...   \n",
       "13091      100      194    0.0049    0.0000   643.24  1599.45  1415.79   \n",
       "13092      100      195   -0.0011   -0.0001   643.22  1595.69  1422.05   \n",
       "13093      100      196   -0.0006   -0.0003   643.44  1593.15  1406.82   \n",
       "13094      100      197   -0.0038    0.0001   643.26  1594.99  1419.36   \n",
       "13095      100      198    0.0013    0.0003   642.95  1601.62  1424.99   \n",
       "\n",
       "       sensor7  sensor8  sensor9  sensor11  sensor12  sensor13  sensor14  \\\n",
       "0       553.90  2388.04  9050.17     47.20    521.72   2388.03   8125.55   \n",
       "1       554.85  2388.01  9054.42     47.50    522.16   2388.06   8139.62   \n",
       "2       554.11  2388.05  9056.96     47.50    521.97   2388.03   8130.10   \n",
       "3       554.07  2388.03  9045.29     47.28    521.38   2388.05   8132.90   \n",
       "4       554.16  2388.01  9044.55     47.31    522.15   2388.03   8129.54   \n",
       "...        ...      ...      ...       ...       ...       ...       ...   \n",
       "13091   553.41  2388.02  9142.37     47.69    520.69   2388.00   8213.28   \n",
       "13092   553.22  2388.05  9140.68     47.60    521.05   2388.09   8210.85   \n",
       "13093   553.04  2388.11  9146.81     47.57    521.18   2388.04   8217.24   \n",
       "13094   553.37  2388.07  9148.85     47.61    521.33   2388.08   8220.48   \n",
       "13095   552.48  2388.06  9155.03     47.80    521.07   2388.05   8214.64   \n",
       "\n",
       "       sensor15  sensor17  sensor20  sensor21  \n",
       "0        8.4052       392     38.86   23.3735  \n",
       "1        8.3803       393     39.02   23.3916  \n",
       "2        8.4441       393     39.08   23.4166  \n",
       "3        8.3917       391     39.00   23.3737  \n",
       "4        8.4031       390     38.99   23.4130  \n",
       "...         ...       ...       ...       ...  \n",
       "13091    8.4715       394     38.65   23.1974  \n",
       "13092    8.4512       395     38.57   23.2771  \n",
       "13093    8.4569       395     38.62   23.2051  \n",
       "13094    8.4711       395     38.66   23.2699  \n",
       "13095    8.4903       396     38.70   23.1855  \n",
       "\n",
       "[13096 rows x 18 columns]"
      ]
     },
     "execution_count": 13,
     "metadata": {},
     "output_type": "execute_result"
    }
   ],
   "source": [
    "# Laden der Testdaten\n",
    "df_test = pd.read_csv(\"./CMAPSSData/test_FD001.txt\",sep=\" \", names=col_names)\n",
    "df_test.drop(drop_cols,axis=1, inplace=True)\n",
    "df_test"
   ]
  },
  {
   "cell_type": "code",
   "execution_count": 14,
   "metadata": {
    "hidden": true,
    "scrolled": false
   },
   "outputs": [],
   "source": [
    "def evaluate(y_true, y_hat, label='test'):\n",
    "    mse = mean_squared_error(y_true, y_hat)\n",
    "    rmse = np.sqrt(mse)\n",
    "    variance = r2_score(y_true, y_hat)\n",
    "    print('{} set RMSE:{}, R2:{}'.format(label, rmse, variance))"
   ]
  },
  {
   "cell_type": "markdown",
   "metadata": {},
   "source": [
    "### Erstelln von Trainings- und Testdatensatz\n",
    "Die Testdaten und die Trainingsdaten werden jeweils in zwei Teile Aufgeteilt. Dabei ist X_train bzw. X_test immer der Datensatz, den der Algorithmus als Input bekommt und y_train bzw. y_test ist das Label, welches vom Algorithmus vorausgesagt werden soll."
   ]
  },
  {
   "cell_type": "code",
   "execution_count": 15,
   "metadata": {
    "hidden": true,
    "scrolled": false
   },
   "outputs": [],
   "source": [
    "# Erstelln von Trainings- und Testdatensatz\n",
    "X_train = df_train.copy()\n",
    "y_train = X_train.pop('RUL')\n",
    "\n",
    "\n",
    "X_test = df_test.copy()\n",
    "X_test = df_test.groupby('engine#').last().reset_index()\n",
    "\n",
    "y_test = pd.read_csv(('./CMAPSSData/RUL_FD001.txt'), sep='\\s+', header=None, names=['RUL'])"
   ]
  },
  {
   "cell_type": "markdown",
   "metadata": {
    "hidden": true
   },
   "source": [
    "# Modellierung"
   ]
  },
  {
   "cell_type": "markdown",
   "metadata": {
    "hidden": true,
    "scrolled": true
   },
   "source": [
    "#### Importiere benötigte Bibliotheken und Funktionen für die Modellierung"
   ]
  },
  {
   "cell_type": "code",
   "execution_count": 16,
   "metadata": {
    "hidden": true
   },
   "outputs": [],
   "source": [
    "import tensorflow.keras as tfk\n",
    "from sklearn import linear_model\n",
    "from sklearn import svm\n",
    "from sklearn.ensemble import RandomForestClassifier\n",
    "from sklearn.linear_model import LinearRegression\n",
    "from sklearn import metrics\n",
    "from sklearn.metrics import mean_squared_error, r2_score\n",
    "from sklearn.preprocessing import MinMaxScaler"
   ]
  },
  {
   "cell_type": "markdown",
   "metadata": {},
   "source": [
    "#### Normalisieren der Daten\n",
    "Die Normalisierung der Daten wird für einige Algorithmen vorausgesetzt."
   ]
  },
  {
   "cell_type": "code",
   "execution_count": 17,
   "metadata": {},
   "outputs": [],
   "source": [
    "scaler = MinMaxScaler()\n",
    "scaler.fit(X_train)\n",
    "X_train_scaled = scaler.transform(X_train)\n",
    "X_test_scaled = scaler.transform(X_test)"
   ]
  },
  {
   "cell_type": "markdown",
   "metadata": {
    "heading_collapsed": true,
    "hidden": true
   },
   "source": [
    "#### Definition der Loss Function\n",
    "Mit Hilfe dieser Funktion werden im folghenden die Algorithmen optimiert und können anhand der Größe des Fehler verglichen werden"
   ]
  },
  {
   "cell_type": "code",
   "execution_count": 18,
   "metadata": {
    "hidden": true
   },
   "outputs": [],
   "source": [
    "def root_mean_squared_error(y_true, y_pred):\n",
    "    return tfk.backend.sqrt(tfk.backend.mean(tfk.backend.square(y_pred - y_true)))"
   ]
  },
  {
   "cell_type": "markdown",
   "metadata": {},
   "source": [
    "## Zum Start ein einfaches Modell / ein einfacher Algorithmus: Lineare Regression"
   ]
  },
  {
   "cell_type": "code",
   "execution_count": 19,
   "metadata": {},
   "outputs": [],
   "source": [
    "# Definition des Modells / Algorithmus\n",
    "model_linear = LinearRegression()"
   ]
  },
  {
   "cell_type": "code",
   "execution_count": 20,
   "metadata": {},
   "outputs": [
    {
     "data": {
      "text/plain": [
       "LinearRegression(copy_X=True, fit_intercept=True, n_jobs=None, normalize=False)"
      ]
     },
     "execution_count": 20,
     "metadata": {},
     "output_type": "execute_result"
    }
   ],
   "source": [
    "# Training des Modells / Algorithmus\n",
    "model_linear.fit(X_train_scaled, y_train)"
   ]
  },
  {
   "cell_type": "code",
   "execution_count": 21,
   "metadata": {},
   "outputs": [
    {
     "name": "stdout",
     "output_type": "stream",
     "text": [
      "train set RMSE:39.58546827329525, R2:0.6697111890795342\n",
      "test set RMSE:31.71973384242311, R2:0.4173610358106008\n"
     ]
    }
   ],
   "source": [
    "# Model Evaluation\n",
    "y_hat_train = model_linear.predict(X_train_scaled)\n",
    "evaluate(y_train, y_hat_train, 'train')\n",
    "\n",
    "y_hat_test = model_linear.predict(X_test_scaled)\n",
    "evaluate(y_test, y_hat_test)"
   ]
  },
  {
   "cell_type": "markdown",
   "metadata": {},
   "source": [
    "---\n",
    "---\n",
    "---\n",
    "# Aufgabe 2\n",
    "Der Fehler für das Trainingsset ist \"train set RMSE\", der Fehler des Testsets ist \"test set RMSE\". Es fällt auf, dass der Testfehler kleiner ist als der Trainingsfehler. Im Allgemeinen sollte dies genau umgekehrt sein.\n",
    "<br>\n",
    "<br>\n",
    "Versuchen Sie folgende Fragen zu beantworten:\n",
    "<br>\n",
    "Warum ist der Trainingsfehler normalerweise kleiner als der Testfehler?"
   ]
  },
  {
   "cell_type": "markdown",
   "metadata": {},
   "source": [
    "# Ende Aufgabe 2\n",
    "---\n",
    "---\n",
    "---"
   ]
  },
  {
   "cell_type": "markdown",
   "metadata": {},
   "source": [
    "# Genaue Betrachtung des RUL"
   ]
  },
  {
   "cell_type": "markdown",
   "metadata": {},
   "source": [
    "---\n",
    "---\n",
    "---\n",
    "# Aufgabe 3\n",
    "Genaue Betrachtung der Restnutzungsdauer (RUL), die wie vorhin selbst erstellt haben.\n",
    "<br>\n",
    "Was fällt bei dieser auf?\n",
    "<br>\n",
    "Worin könnten Probleme liegen (Trainingsdaten vs. Testdaten)?"
   ]
  },
  {
   "cell_type": "code",
   "execution_count": 23,
   "metadata": {
    "scrolled": false
   },
   "outputs": [
    {
     "data": {
      "image/png": "[encoded data removed]",
      "text/plain": [
       "<Figure size 1440x1008 with 2 Axes>"
      ]
     },
     "metadata": {},
     "output_type": "display_data"
    }
   ],
   "source": [
    "# Erstellen zweier Schaubilder. Diese zeigen die Verteilung der RUL im Trainings- und im Testdatensatz\n",
    "df_max_rul = df_train[['engine#', 'RUL']].groupby('engine#').max().reset_index()\n",
    "\n",
    "fig = plt.figure(tight_layout=True)\n",
    "ax = fig.add_subplot(211)\n",
    "df_max_rul['RUL'].hist(ax=ax, bins=range(25, 350, 20))\n",
    "plt.ylabel('Häufigkeit')\n",
    "plt.title('Trainingsdaten')\n",
    "\n",
    "ax2 = fig.add_subplot(212)\n",
    "y_test['RUL'].hist(ax=ax2, bins=range(25, 350, 20))\n",
    "plt.xlabel('RUL')\n",
    "plt.ylabel('Häufigkeit')\n",
    "plt.title('Testdaten')\n",
    "plt.show()"
   ]
  },
  {
   "cell_type": "code",
   "execution_count": 24,
   "metadata": {},
   "outputs": [
    {
     "data": {
      "image/png": "[encoded data removed]",
      "text/plain": [
       "<Figure size 936x360 with 2 Axes>"
      ]
     },
     "metadata": {},
     "output_type": "display_data"
    }
   ],
   "source": [
    "# Erstellung eines Schabilds, welches die RUL und einen beispielhaften Sensor für ein Triebwerk zeigt\n",
    "fig, ax1 = plt.subplots(1,1, figsize=(13,5))\n",
    "\n",
    "unit20_RUL = np.array(df_train.loc[df_train['engine#']==20, 'RUL'])\n",
    "unit20_sensor12 = np.array(df_train.loc[df_train['engine#']==20, 'sensor12'])\n",
    "\n",
    "signal = ax1.plot(unit20_RUL, unit20_sensor12, color=fh_blue)\n",
    "\n",
    "plt.xlim(250, 0)\n",
    "plt.xticks(np.arange(0, 275, 25))\n",
    "ax1.set_ylabel('Sensor 12', labelpad=20)\n",
    "ax1.set_xlabel('RUL', labelpad=20)\n",
    "\n",
    "ax2 = ax1.twinx()\n",
    "rul_line = ax2.plot(unit20_RUL, unit20_RUL, 'k', linewidth=4)\n",
    "ax2.set_ylabel('RUL', labelpad=20)\n",
    "\n",
    "ax2.set_ylim(0, 250)\n",
    "ax2.set_yticks(\n",
    "    np.linspace(ax2.get_ybound()[0], ax2.get_ybound()[1], 6))\n",
    "ax1.set_yticks(\n",
    "    np.linspace(ax1.get_ybound()[0], ax1.get_ybound()[1], 6))\n",
    "\n",
    "lines = signal+rul_line\n",
    "labels = ['sensor12', 'RUL']\n",
    "ax1.legend(lines, labels, loc=0)\n",
    "\n",
    "plt.show()"
   ]
  },
  {
   "cell_type": "markdown",
   "metadata": {},
   "source": [
    "# Ende Aufgabe 3\n",
    "---\n",
    "---\n",
    "---"
   ]
  },
  {
   "cell_type": "markdown",
   "metadata": {},
   "source": [
    "# Erstellung einer besseren / optimierten Restlaufdauer "
   ]
  },
  {
   "cell_type": "code",
   "execution_count": 25,
   "metadata": {},
   "outputs": [],
   "source": [
    "# Berechnung der optimierten Restlaufdauer RUL \n",
    "y_train_optimized = y_train.clip(upper=125)"
   ]
  },
  {
   "cell_type": "code",
   "execution_count": 26,
   "metadata": {
    "scrolled": false
   },
   "outputs": [
    {
     "data": {
      "text/plain": [
       "<matplotlib.legend.Legend at 0x1b468a55308>"
      ]
     },
     "execution_count": 26,
     "metadata": {},
     "output_type": "execute_result"
    },
    {
     "data": {
      "image/png": "[encoded data removed]",
      "text/plain": [
       "<Figure size 936x360 with 2 Axes>"
      ]
     },
     "metadata": {},
     "output_type": "display_data"
    }
   ],
   "source": [
    "# Erstellung eines Schabilds, welches die RUL, die optimierte RUL und einen beispielhaften Sensor für ein Triebwerk zeigt\n",
    "fig, ax1 = plt.subplots(1,1, figsize=(13,5))\n",
    "\n",
    "signal = ax1.plot(unit20_RUL, unit20_sensor12, color=fh_blue)\n",
    "\n",
    "rul = df_train.loc[df_train['engine#']==20, 'RUL']\n",
    "unit20_RUL_optimized = unit20_RUL.copy()\n",
    "unit20_RUL_optimized[unit20_RUL_optimized >= 125] = 125\n",
    "\n",
    "plt.xlim(250, 0)\n",
    "plt.xticks(np.arange(0, 275, 25))\n",
    "ax1.set_ylabel('Sensor 12', labelpad=20)\n",
    "ax1.set_xlabel('engine', labelpad=20)\n",
    "\n",
    "ax2 = ax1.twinx()\n",
    "rul_line = ax2.plot(unit20_RUL, unit20_RUL, 'k', linewidth=4)\n",
    "\n",
    "rul_line2 = ax2.plot(unit20_RUL, unit20_RUL_optimized, '--', linewidth=4, color=fh_teal)\n",
    "\n",
    "ax2.set_ylim(0, 250)\n",
    "ax2.set_yticks(\n",
    "    np.linspace(ax2.get_ybound()[0], ax2.get_ybound()[1], 6))\n",
    "ax1.set_yticks(\n",
    "    np.linspace(ax1.get_ybound()[0], ax1.get_ybound()[1], 6))\n",
    "\n",
    "lines = signal+rul_line+rul_line2\n",
    "labels = ['Sensor 12', 'RUL', 'Optimierte RUL']\n",
    "ax1.legend(lines, labels, loc=0)"
   ]
  },
  {
   "cell_type": "markdown",
   "metadata": {},
   "source": [
    "#### Lineare Regression mit optimiertem RUL"
   ]
  },
  {
   "cell_type": "code",
   "execution_count": 27,
   "metadata": {},
   "outputs": [
    {
     "name": "stdout",
     "output_type": "stream",
     "text": [
      "train set RMSE:19.827954467105034, R2:0.773612325266579\n",
      "test set RMSE:22.614038309741126, R2:0.7038602517095446\n"
     ]
    }
   ],
   "source": [
    "# Model Definition\n",
    "lm = LinearRegression()\n",
    "\n",
    "# Model Training\n",
    "lm.fit(X_train_scaled, y_train_optimized)\n",
    "\n",
    "# Model Evaluation\n",
    "y_hat_train = lm.predict(X_train_scaled)\n",
    "evaluate(y_train_optimized, y_hat_train, 'train')\n",
    "y_hat_test = lm.predict(X_test_scaled)\n",
    "evaluate(y_test, y_hat_test)"
   ]
  },
  {
   "cell_type": "markdown",
   "metadata": {},
   "source": [
    "# Weitere Modelle"
   ]
  },
  {
   "cell_type": "markdown",
   "metadata": {
    "heading_collapsed": true
   },
   "source": [
    "## Model Definition"
   ]
  },
  {
   "cell_type": "markdown",
   "metadata": {
    "hidden": true
   },
   "source": [
    "### Definition eines Random Forest"
   ]
  },
  {
   "cell_type": "code",
   "execution_count": 28,
   "metadata": {
    "hidden": true
   },
   "outputs": [],
   "source": [
    "model_forest = RandomForestClassifier(n_estimators=10)"
   ]
  },
  {
   "cell_type": "markdown",
   "metadata": {
    "heading_collapsed": true,
    "hidden": true
   },
   "source": [
    "### Definition eines Neural Network (Input Layer und Output Layer)"
   ]
  },
  {
   "cell_type": "code",
   "execution_count": 29,
   "metadata": {
    "hidden": true
   },
   "outputs": [],
   "source": [
    "inputs = tfk.Input(shape=(18,))\n",
    "outputs = tfk.layers.Dense(1, activation=tfk.activations.relu)(inputs)\n",
    "\n",
    "model_nn = tfk.Model(inputs=inputs, outputs=outputs)\n",
    "model_nn.compile(optimizer='rmsprop',loss = root_mean_squared_error)"
   ]
  },
  {
   "cell_type": "markdown",
   "metadata": {
    "hidden": true
   },
   "source": [
    "### Definition eines Tiefen Neuronalen Netzes (Deep Neural Network; Input Layer, 3 Hidden Layer, Output Layer)"
   ]
  },
  {
   "cell_type": "code",
   "execution_count": 30,
   "metadata": {
    "hidden": true
   },
   "outputs": [],
   "source": [
    "inputs = tfk.Input(shape=(18,))\n",
    "x = tfk.layers.Dense(18, \n",
    "                     activation=tfk.activations.relu,\n",
    "                     kernel_initializer='glorot_normal',\n",
    "                     activity_regularizer=tfk.regularizers.l1(0.00002))(inputs)\n",
    "x = tfk.layers.Dense(70, \n",
    "                     activation=tfk.activations.relu,\n",
    "                     kernel_initializer='glorot_normal',\n",
    "                     activity_regularizer=tfk.regularizers.l1(0.00002))(x)\n",
    "x = tfk.layers.Dense(60, \n",
    "                     activation=tfk.activations.relu,\n",
    "                     kernel_initializer='glorot_normal',\n",
    "                     activity_regularizer=tfk.regularizers.l1(0.00002))(x)\n",
    "x = tfk.layers.Dense(50, \n",
    "                     activation=tfk.activations.relu,\n",
    "                     kernel_initializer='glorot_normal',\n",
    "                     activity_regularizer=tfk.regularizers.l1(0.00002))(x)\n",
    "x = tfk.layers.Dense(40, \n",
    "                     activation=tfk.activations.relu,\n",
    "                     kernel_initializer='glorot_normal',\n",
    "                     activity_regularizer=tfk.regularizers.l1(0.00002))(x)\n",
    "x = tfk.layers.Dense(10,\n",
    "                     activation=tfk.activations.relu,\n",
    "                     kernel_initializer='glorot_normal',\n",
    "                     activity_regularizer=tfk.regularizers.l1(0.00002))(x)\n",
    "outputs = tfk.layers.Dense(1,\n",
    "                           activation=tfk.activations.relu,\n",
    "                          activity_regularizer=tfk.regularizers.l1(0.00002))(x)\n",
    "\n",
    "model_deep_nn = tfk.Model(inputs=inputs, outputs=outputs)\n",
    "model_deep_nn.compile(optimizer=tfk.optimizers.RMSprop(learning_rate=0.01),\n",
    "                      loss = root_mean_squared_error,\n",
    "                     metrics=[root_mean_squared_error])"
   ]
  },
  {
   "cell_type": "markdown",
   "metadata": {
    "hidden": true
   },
   "source": [
    "#### Definition einer Support Vector Maschine (SVM)"
   ]
  },
  {
   "cell_type": "code",
   "execution_count": 31,
   "metadata": {
    "hidden": true
   },
   "outputs": [],
   "source": [
    "supVecMac = svm.SVR(kernel='linear')"
   ]
  },
  {
   "cell_type": "markdown",
   "metadata": {
    "heading_collapsed": true
   },
   "source": [
    "# Model Training"
   ]
  },
  {
   "cell_type": "markdown",
   "metadata": {
    "hidden": true
   },
   "source": [
    "### Training des Random Forest"
   ]
  },
  {
   "cell_type": "code",
   "execution_count": 32,
   "metadata": {
    "hidden": true,
    "scrolled": true
   },
   "outputs": [
    {
     "name": "stdout",
     "output_type": "stream",
     "text": [
      "Trainingsfehler (RMSE): 2.1133022124375636\n"
     ]
    }
   ],
   "source": [
    "model_forest.fit(X_train_scaled, y_train_optimized)\n",
    "y_pred = model_forest.predict(X_train_scaled)\n",
    "print('Trainingsfehler (RMSE):', np.sqrt(metrics.mean_squared_error(y_train_optimized, y_pred)))"
   ]
  },
  {
   "cell_type": "markdown",
   "metadata": {
    "heading_collapsed": true,
    "hidden": true
   },
   "source": [
    "### Training des Neural Network"
   ]
  },
  {
   "cell_type": "code",
   "execution_count": 33,
   "metadata": {
    "hidden": true,
    "scrolled": false
   },
   "outputs": [
    {
     "name": "stdout",
     "output_type": "stream",
     "text": [
      "Epoch 1/10\n",
      "2064/2064 [==============================] - 1s 635us/step - loss: 87.1891\n",
      "Epoch 2/10\n",
      "2064/2064 [==============================] - 1s 621us/step - loss: 72.8858\n",
      "Epoch 3/10\n",
      "2064/2064 [==============================] - 1s 610us/step - loss: 60.7906\n",
      "Epoch 4/10\n",
      "2064/2064 [==============================] - 1s 605us/step - loss: 52.1396\n",
      "Epoch 5/10\n",
      "2064/2064 [==============================] - 1s 598us/step - loss: 47.3322\n",
      "Epoch 6/10\n",
      "2064/2064 [==============================] - 1s 597us/step - loss: 44.8823\n",
      "Epoch 7/10\n",
      "2064/2064 [==============================] - 1s 602us/step - loss: 43.1845\n",
      "Epoch 8/10\n",
      "2064/2064 [==============================] - 1s 618us/step - loss: 41.7237\n",
      "Epoch 9/10\n",
      "2064/2064 [==============================] - 1s 603us/step - loss: 40.3665\n",
      "Epoch 10/10\n",
      "2064/2064 [==============================] - 1s 647us/step - loss: 38.9980\n"
     ]
    },
    {
     "data": {
      "text/plain": [
       "<tensorflow.python.keras.callbacks.History at 0x1b4689d5a88>"
      ]
     },
     "execution_count": 33,
     "metadata": {},
     "output_type": "execute_result"
    }
   ],
   "source": [
    "model_nn.fit(X_train_scaled, y_train_optimized, batch_size=10, epochs=10)"
   ]
  },
  {
   "cell_type": "markdown",
   "metadata": {
    "hidden": true
   },
   "source": [
    "### Training des Deep Neural Networks"
   ]
  },
  {
   "cell_type": "code",
   "execution_count": 34,
   "metadata": {
    "hidden": true,
    "scrolled": false
   },
   "outputs": [
    {
     "name": "stdout",
     "output_type": "stream",
     "text": [
      "Epoch 1/10\n",
      "2064/2064 [==============================] - 2s 1ms/step - loss: 21.9867 - root_mean_squared_error: 21.9711\n",
      "Epoch 2/10\n",
      "2064/2064 [==============================] - 2s 1ms/step - loss: 17.5527 - root_mean_squared_error: 17.5424\n",
      "Epoch 3/10\n",
      "2064/2064 [==============================] - 2s 1ms/step - loss: 16.8604 - root_mean_squared_error: 16.8498\n",
      "Epoch 4/10\n",
      "2064/2064 [==============================] - 2s 1ms/step - loss: 16.4529 - root_mean_squared_error: 16.4423A: 1s - loss: 16.6209 - root_me\n",
      "Epoch 5/10\n",
      "2064/2064 [==============================] - 3s 1ms/step - loss: 16.1046 - root_mean_squared_error: 16.0952\n",
      "Epoch 6/10\n",
      "2064/2064 [==============================] - 3s 1ms/step - loss: 15.8129 - root_mean_squared_error: 15.8031\n",
      "Epoch 7/10\n",
      "2064/2064 [==============================] - 3s 1ms/step - loss: 15.7430 - root_mean_squared_error: 15.7415\n",
      "Epoch 8/10\n",
      "2064/2064 [==============================] - 3s 1ms/step - loss: 15.5898 - root_mean_squared_error: 15.5844\n",
      "Epoch 9/10\n",
      "2064/2064 [==============================] - 2s 1ms/step - loss: 15.4252 - root_mean_squared_error: 15.4163\n",
      "Epoch 10/10\n",
      "2064/2064 [==============================] - 2s 1ms/step - loss: 15.3444 - root_mean_squared_error: 15.3419\n"
     ]
    },
    {
     "data": {
      "text/plain": [
       "<tensorflow.python.keras.callbacks.History at 0x1b46c84a708>"
      ]
     },
     "execution_count": 34,
     "metadata": {},
     "output_type": "execute_result"
    }
   ],
   "source": [
    "model_deep_nn.fit(X_train_scaled, y_train_optimized, batch_size=10, epochs=10)"
   ]
  },
  {
   "cell_type": "markdown",
   "metadata": {
    "heading_collapsed": true,
    "hidden": true
   },
   "source": [
    "### Training der Support Vector Machine"
   ]
  },
  {
   "cell_type": "code",
   "execution_count": 35,
   "metadata": {
    "hidden": true
   },
   "outputs": [
    {
     "name": "stdout",
     "output_type": "stream",
     "text": [
      "Trainingsfehler (RMSE): 19.863088515644268\n"
     ]
    }
   ],
   "source": [
    "supVecMac.fit(X_train_scaled, y_train_optimized)\n",
    "y_pred = supVecMac.predict(X_train_scaled)\n",
    "print('Trainingsfehler (RMSE):', np.sqrt(metrics.mean_squared_error(y_train_optimized, y_pred)))"
   ]
  },
  {
   "cell_type": "markdown",
   "metadata": {
    "heading_collapsed": true
   },
   "source": [
    "# Model Evaluation & vergleich aller Modelle"
   ]
  },
  {
   "cell_type": "code",
   "execution_count": 36,
   "metadata": {},
   "outputs": [],
   "source": [
    "model_linear = linear_model.LinearRegression()\n",
    "model_linear.fit(X_train_scaled, y_train_optimized)\n",
    "\n",
    "models = [model_linear, model_forest, model_nn, model_deep_nn, supVecMac]\n",
    "\n",
    "metric = metrics.mean_squared_error\n",
    "metric_per_model = []\n",
    "for model in models:\n",
    "    prediction = model.predict(X_test_scaled)\n",
    "    cost = metric(y_test, prediction)\n",
    "    cost = np.sqrt(cost)\n",
    "    metric_per_model.append(cost)\n",
    "    \n"
   ]
  },
  {
   "cell_type": "code",
   "execution_count": 37,
   "metadata": {
    "hidden": true
   },
   "outputs": [
    {
     "data": {
      "image/png": "[encoded data removed]",
      "text/plain": [
       "<Figure size 1440x1008 with 1 Axes>"
      ]
     },
     "metadata": {},
     "output_type": "display_data"
    }
   ],
   "source": [
    "x = np.arange(len(metric_per_model))\n",
    "model_names = ['Lineare \\n Regression', 'Random Forest', 'Neural \\n Network', 'Deep Neural \\n Network', 'Support \\n Vector Machine']\n",
    "\n",
    "\n",
    "fig, ax = plt.subplots()\n",
    "bar = ax.bar(x, metric_per_model, .5)\n",
    "plt.xticks(x,[model for model in model_names])\n",
    "\n",
    "for rect in bar:\n",
    "    height = rect.get_height()\n",
    "    ax.text(rect.get_x() + rect.get_width()/2., .2 + height,\n",
    "            '%8.2f' % height,\n",
    "            ha='center', va='bottom',\n",
    "            fontsize=20)\n",
    "\n",
    "plt.title('Testfehler verschiedener Algorithmen')\n",
    "plt.ylabel('Testfehler (RMSE)');"
   ]
  },
  {
   "cell_type": "markdown",
   "metadata": {
    "hidden": true,
    "scrolled": true
   },
   "source": [
    "# Hyperparameter-Optimierung (Hyperparamter tunining)"
   ]
  },
  {
   "cell_type": "markdown",
   "metadata": {},
   "source": [
    "---\n",
    "---\n",
    "---\n",
    "# Aufgabe 4\n",
    "Welches sind die optimaten Hyperparamter für einen Random Forest?\n",
    "<br>\n",
    "Versuche verschiedene Hyperparametr aus. Dabei können in der nächsten Zelle die folgenden Hyperparameter angepasst werden:\n",
    "<br>\n",
    "<b>n_estimator:</b> Anzahl der Bäume (ganze Zahl zwischen 2 und 100. Je höher die Zahl, desto länger dauert die Berechnung)\n",
    "<br>\n",
    "<b>max_depth:</b> Maximale Tiefe eines Baumes (ganze Zahl zwischen 2 und 15 oder None, falls keine maximale Tiefe vorgegebn werden soll)\n",
    "<br>\n",
    "<b>max_features:</b> Maximale Anzhal der Merkmale, die für das erstellen eines Baumes zufällig ausgewählt wertden (ganze Zahl zwischen 2 und 15 oder “auto”, “sqrt”, “log2”. Der Standardwert ist sqrt(n_features), die Quadratwurzel der Anzahl der Merkmale)\n",
    "<br>\n",
    "Es gibt noch viele weitere..."
   ]
  },
  {
   "cell_type": "code",
   "execution_count": 38,
   "metadata": {},
   "outputs": [],
   "source": [
    "# Definition des Random Forests\n",
    "model_forest = RandomForestClassifier(n_estimators=10, max_depth=None, max_features='sqrt')"
   ]
  },
  {
   "cell_type": "code",
   "execution_count": 39,
   "metadata": {},
   "outputs": [
    {
     "name": "stdout",
     "output_type": "stream",
     "text": [
      "Trainingsfehler (RMSE): 1.8281959472921678\n"
     ]
    }
   ],
   "source": [
    "# Training des Random Forests\n",
    "model_forest.fit(X_train_scaled, y_train_optimized)\n",
    "y_pred = model_forest.predict(X_train_scaled)\n",
    "print('Trainingsfehler (RMSE):', np.sqrt(metrics.mean_squared_error(y_train_optimized, y_pred)))"
   ]
  },
  {
   "cell_type": "markdown",
   "metadata": {},
   "source": [
    "# Ende Aufgabe 4\n",
    "---\n",
    "---\n",
    "---"
   ]
  },
  {
   "cell_type": "markdown",
   "metadata": {},
   "source": [
    "# Zufällige Suche (Random Search) der optimalen Hyperparamter für einen Random Forest"
   ]
  },
  {
   "cell_type": "code",
   "execution_count": 40,
   "metadata": {},
   "outputs": [],
   "source": [
    "# Erstellen der Random Search mit Angabe, welche Hyperparameter mit welchen werten getestet werden sollen\n",
    "def Random_Search_CV_RFR(X_train, y_train):\n",
    "    from sklearn.model_selection import GridSearchCV\n",
    "    from sklearn.model_selection import RandomizedSearchCV\n",
    "    from sklearn.model_selection import ShuffleSplit\n",
    "    from sklearn.ensemble import RandomForestRegressor\n",
    "\n",
    "    estimator = RandomForestRegressor()\n",
    "    param_grid = { \n",
    "            \"n_estimators\"      : [10, 25, 50, 100, 250, 500],\n",
    "            \"max_features\"      : [\"sqrt\", \"log2\"],\n",
    "            \"min_samples_split\" : [2,4,8,16, 32],\n",
    "            \"bootstrap\": [True, False]\n",
    "            }\n",
    "\n",
    "    random_params = RandomizedSearchCV(estimator, param_grid, n_iter=20, n_jobs=-1, cv=5)\n",
    "\n",
    "    random_params.fit(X_train, y_train)\n",
    "\n",
    "    return random_params.best_score_ , random_params.best_params_\n",
    "\n",
    "def RFR(X_train, X_test, y_train, y_test, best_params):\n",
    "    from sklearn.ensemble import RandomForestRegressor\n",
    "    estimator = RandomForestRegressor(n_jobs=-1).set_params(**best_params)\n",
    "    estimator.fit(X_train,y_train)\n",
    "    y_predict = estimator.predict(X_test)\n",
    "    return y_test,y_predict"
   ]
  },
  {
   "cell_type": "code",
   "execution_count": null,
   "metadata": {},
   "outputs": [],
   "source": [
    "# Durchführen der Random Search für den Random Forest\n",
    "best_score, best_params = Random_Search_CV_RFR(X_train_scaled, y_train_optimized)\n",
    "y_test , y_predict = RFR(X_train_scaled, X_test_scaled, y_train_optimized, y_test, best_params)\n",
    "print(\"Best params:\",best_params)"
   ]
  },
  {
   "cell_type": "markdown",
   "metadata": {},
   "source": [
    "### Der Random Forest mit den optimalen Hyperparametern"
   ]
  },
  {
   "cell_type": "code",
   "execution_count": null,
   "metadata": {},
   "outputs": [],
   "source": [
    "# Der Random Forest mit den optimalen Hyperparametern wird nun noch einmal mit allen Daten trainiert\n",
    "model_forest2 = RandomForestClassifier(bootstrap=True, max_features='log2', n_estimators=100)\n",
    "model_forest2.fit(X_train_scaled, y_train_optimized)\n",
    "y_pred = model_forest2.predict(X_train_scaled)"
   ]
  },
  {
   "cell_type": "code",
   "execution_count": null,
   "metadata": {},
   "outputs": [],
   "source": [
    "# Testfehler des Random Forest mit den optimalen Hyperparametern\n",
    "y_pred = model_forest2.predict(X_test_scaled)\n",
    "print('Testfehler (RMSE):', np.sqrt(metrics.mean_squared_error(y_test, y_pred)))"
   ]
  },
  {
   "cell_type": "markdown",
   "metadata": {},
   "source": [
    "# Vergleich aller Modelle"
   ]
  },
  {
   "cell_type": "code",
   "execution_count": null,
   "metadata": {},
   "outputs": [],
   "source": [
    "models2 = [model_linear, model_forest, model_forest2, model_nn, model_deep_nn, supVecMac]\n",
    "\n",
    "metric = metrics.mean_squared_error\n",
    "metric_per_model2 = []\n",
    "for model in models2:\n",
    "    prediction = model.predict(X_test_scaled)\n",
    "    cost = metric(y_test, prediction)\n",
    "    cost = np.sqrt(cost)\n",
    "    metric_per_model2.append(cost)"
   ]
  },
  {
   "cell_type": "code",
   "execution_count": null,
   "metadata": {},
   "outputs": [],
   "source": [
    "x = np.arange(len(metric_per_model2))\n",
    "model_names2 = ['Lineare \\n Regression', 'Random Forest', 'Optimierter  \\n Random Forest', 'Neural \\n Network', 'Deep Neural \\n Network', 'Support \\n Vector Machine']\n",
    "\n",
    "\n",
    "fig, ax = plt.subplots()\n",
    "bar = ax.bar(x, metric_per_model2, .5)\n",
    "plt.xticks(x,[model for model in model_names2])\n",
    "\n",
    "for rect in bar:\n",
    "    height = rect.get_height()\n",
    "    ax.text(rect.get_x() + rect.get_width()/2., .2 + height,\n",
    "            '%8.2f' % height,\n",
    "            ha='center', va='bottom',\n",
    "            fontsize=20)\n",
    "\n",
    "plt.title('Testfehler verschiedener Algorithmen')\n",
    "plt.ylabel('Testfehler (RMSE)');"
   ]
  }
 ],
 "metadata": {
  "kernelspec": {
   "display_name": "Python 3",
   "language": "python",
   "name": "python3"
  },
  "language_info": {
   "codemirror_mode": {
    "name": "ipython",
    "version": 3
   },
   "file_extension": ".py",
   "mimetype": "text/x-python",
   "name": "python",
   "nbconvert_exporter": "python",
   "pygments_lexer": "ipython3",
   "version": "3.7.4"
  }
 },
 "nbformat": 4,
 "nbformat_minor": 2
}
